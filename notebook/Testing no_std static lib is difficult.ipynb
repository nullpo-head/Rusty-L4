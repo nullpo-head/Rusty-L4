{
 "cells": [
  {
   "cell_type": "markdown",
   "metadata": {},
   "source": [
    "# Testing no_std static lib is difficult..."
   ]
  },
  {
   "cell_type": "code",
   "execution_count": 2,
   "metadata": {},
   "outputs": [],
   "source": [
    "cd .."
   ]
  },
  {
   "cell_type": "code",
   "execution_count": 5,
   "metadata": {
    "scrolled": true
   },
   "outputs": [
    {
     "name": "stdout",
     "output_type": "stream",
     "text": [
      "\u001b[33mcommit 06845495457b5d29a5827d629f0e61820ae0a73f\u001b[m\u001b[33m (\u001b[m\u001b[1;36mHEAD -> \u001b[m\u001b[1;32mtsurai_test\u001b[m\u001b[33m)\u001b[m\n",
      "Author: Takaya Saeki <abc.tkys+pub@gmail.com>\n",
      "Date:   Sun Jun 30 17:56:58 2019 +0900\n",
      "\n",
      "    test_runner\n",
      "\n",
      "\u001b[1mdiff --git a/src/lib.rs b/src/lib.rs\u001b[m\n",
      "\u001b[1mindex cb90d46..a005f16 100755\u001b[m\n",
      "\u001b[1m--- a/src/lib.rs\u001b[m\n",
      "\u001b[1m+++ b/src/lib.rs\u001b[m\n",
      "\u001b[36m@@ -1,6 +1,10 @@\u001b[m\n",
      " #![no_std]\u001b[m\n",
      " #![feature(abi_x86_interrupt)]\u001b[m\n",
      " #![feature(asm)]\u001b[m\n",
      "\u001b[32m+\u001b[m\u001b[32m#![feature(lang_items)]\u001b[m\n",
      "\u001b[32m+\u001b[m\u001b[32m#![feature(custom_test_frameworks)]\u001b[m\n",
      "\u001b[32m+\u001b[m\u001b[32m#![test_runner(crate::test_runner)]\u001b[m\n",
      "\u001b[32m+\u001b[m\u001b[32m#![reexport_test_harness_main = \"test_main\"]\u001b[m\n",
      " \u001b[m\n",
      " use core::panic::PanicInfo;\u001b[m\n",
      " \u001b[m\n",
      "\u001b[36m@@ -8,7 +12,6 @@\u001b[m \u001b[mextern crate multiboot2;\u001b[m\n",
      " \u001b[m\n",
      " pub mod interrupts;\u001b[m\n",
      " pub mod gdt;\u001b[m\n",
      "\u001b[31m-\u001b[m\n",
      " mod vga_buffer;\u001b[m\n",
      " \u001b[m\n",
      " #[no_mangle]\u001b[m\n",
      "\u001b[36m@@ -18,6 +21,9 @@\u001b[m \u001b[mpub extern \"C\" fn rust_start(multiboot_info_addr: usize) -> ! {\u001b[m\n",
      "     gdt::init();\u001b[m\n",
      "     interrupts::init_idt();\u001b[m\n",
      " \u001b[m\n",
      "\u001b[32m+\u001b[m\u001b[32m    #[cfg(test)]\u001b[m\n",
      "\u001b[32m+\u001b[m\u001b[32m    test_main();\u001b[m\n",
      "\u001b[32m+\u001b[m\n",
      "     println!(\"multiboot_info_addr: 0x{:x}\", multiboot_info_addr);\u001b[m\n",
      "     let boot_info = unsafe { multiboot2::load(multiboot_info_addr + 0xffffffffc0000000usize) };\u001b[m\n",
      "     let memory_map_tag = boot_info.memory_map_tag()\u001b[m\n",
      "\u001b[36m@@ -38,3 +44,11 @@\u001b[m \u001b[mfn panic(info: &PanicInfo) -> ! {\u001b[m\n",
      "     loop {}\u001b[m\n",
      " }\u001b[m\n",
      " \u001b[m\n",
      "\u001b[32m+\u001b[m\n",
      "\u001b[32m+\u001b[m\u001b[32m#[cfg(test)]\u001b[m\n",
      "\u001b[32m+\u001b[m\u001b[32mpub fn test_runner(tests: &[&dyn Fn()]) {\u001b[m\n",
      "\u001b[32m+\u001b[m\u001b[32m    println!(\"Running {} tests\", tests.len());\u001b[m\n",
      "\u001b[32m+\u001b[m\u001b[32m    for test in tests {\u001b[m\n",
      "\u001b[32m+\u001b[m\u001b[32m        test();\u001b[m\n",
      "\u001b[32m+\u001b[m\u001b[32m    }\u001b[m\n",
      "\u001b[32m+\u001b[m\u001b[32m}\u001b[m\n",
      "\\ No newline at end of file\u001b[m\n"
     ]
    }
   ],
   "source": [
    "git log -1 -p"
   ]
  },
  {
   "cell_type": "markdown",
   "metadata": {},
   "source": [
    "Added `test_runner` "
   ]
  },
  {
   "cell_type": "code",
   "execution_count": 4,
   "metadata": {},
   "outputs": [
    {
     "name": "stdout",
     "output_type": "stream",
     "text": [
      "\u001b[0m\u001b[0m\u001b[1m\u001b[32m   Compiling\u001b[0m rusty_l4 v0.1.0 (/mnt/c/Users/abctk/Dropbox/develop/rust/l4/rusty_l4)\n",
      "\u001b[K\u001b[0m\u001b[1m\u001b[33mwarning\u001b[0m\u001b[0m\u001b[1m: `...` range patterns are deprecated\u001b[0m============>   ] 19/20\n",
      "\u001b[0m  \u001b[0m\u001b[0m\u001b[1m\u001b[38;5;12m--> \u001b[0m\u001b[0msrc/vga_buffer.rs:71:21\u001b[0m\n",
      "\u001b[0m   \u001b[0m\u001b[0m\u001b[1m\u001b[38;5;12m|\u001b[0m\n",
      "\u001b[0m\u001b[1m\u001b[38;5;12m71\u001b[0m\u001b[0m \u001b[0m\u001b[0m\u001b[1m\u001b[38;5;12m| \u001b[0m\u001b[0m                0x20...0x7e | b'\\n' => self.write_byte(byte),\u001b[0m\n",
      "\u001b[0m   \u001b[0m\u001b[0m\u001b[1m\u001b[38;5;12m| \u001b[0m\u001b[0m                    \u001b[0m\u001b[0m\u001b[1m\u001b[33m^^^\u001b[0m\u001b[0m \u001b[0m\u001b[0m\u001b[1m\u001b[33mhelp: use `..=` for an inclusive range\u001b[0m\n",
      "\u001b[0m   \u001b[0m\u001b[0m\u001b[1m\u001b[38;5;12m|\u001b[0m\n",
      "\u001b[0m   \u001b[0m\u001b[0m\u001b[1m\u001b[38;5;12m= \u001b[0m\u001b[0m\u001b[1mnote\u001b[0m\u001b[0m: #[warn(ellipsis_inclusive_range_patterns)] on by default\u001b[0m\n",
      "\n",
      "\u001b[K\u001b[0m\u001b[1m\u001b[33mwarning\u001b[0m\u001b[0m\u001b[1m: function is never used: `fault_handler`\u001b[0m========>   ] 19/20\n",
      "\u001b[0m  \u001b[0m\u001b[0m\u001b[1m\u001b[38;5;12m--> \u001b[0m\u001b[0msrc/interrupts.rs:38:1\u001b[0m\n",
      "\u001b[0m   \u001b[0m\u001b[0m\u001b[1m\u001b[38;5;12m|\u001b[0m\n",
      "\u001b[0m\u001b[1m\u001b[38;5;12m38\u001b[0m\u001b[0m \u001b[0m\u001b[0m\u001b[1m\u001b[38;5;12m| \u001b[0m\u001b[0m\u001b[1m\u001b[33m/\u001b[0m\u001b[0m \u001b[0m\u001b[0mextern \"x86-interrupt\" fn fault_handler(\u001b[0m\n",
      "\u001b[0m\u001b[1m\u001b[38;5;12m39\u001b[0m\u001b[0m \u001b[0m\u001b[0m\u001b[1m\u001b[38;5;12m| \u001b[0m\u001b[0m\u001b[1m\u001b[33m|\u001b[0m\u001b[0m \u001b[0m\u001b[0m    stack_frame: &mut InterruptStackFrame,\u001b[0m\n",
      "\u001b[0m\u001b[1m\u001b[38;5;12m40\u001b[0m\u001b[0m \u001b[0m\u001b[0m\u001b[1m\u001b[38;5;12m| \u001b[0m\u001b[0m\u001b[1m\u001b[33m|\u001b[0m\u001b[0m \u001b[0m\u001b[0m    _: PageFaultErrorCode) \u001b[0m\n",
      "\u001b[0m\u001b[1m\u001b[38;5;12m41\u001b[0m\u001b[0m \u001b[0m\u001b[0m\u001b[1m\u001b[38;5;12m| \u001b[0m\u001b[0m\u001b[1m\u001b[33m|\u001b[0m\u001b[0m \u001b[0m\u001b[0m{\u001b[0m\n",
      "\u001b[0m\u001b[1m\u001b[38;5;12m42\u001b[0m\u001b[0m \u001b[0m\u001b[0m\u001b[1m\u001b[38;5;12m| \u001b[0m\u001b[0m\u001b[1m\u001b[33m|\u001b[0m\u001b[0m \u001b[0m\u001b[0m    println!(\"EXCEPTION: \\n{:#?}\", stack_frame);\u001b[0m\n",
      "\u001b[0m\u001b[1m\u001b[38;5;12m43\u001b[0m\u001b[0m \u001b[0m\u001b[0m\u001b[1m\u001b[38;5;12m| \u001b[0m\u001b[0m\u001b[1m\u001b[33m|\u001b[0m\u001b[0m \u001b[0m\u001b[0m}\u001b[0m\n",
      "\u001b[0m   \u001b[0m\u001b[0m\u001b[1m\u001b[38;5;12m| \u001b[0m\u001b[0m\u001b[1m\u001b[33m|_^\u001b[0m\n",
      "\u001b[0m   \u001b[0m\u001b[0m\u001b[1m\u001b[38;5;12m|\u001b[0m\n",
      "\u001b[0m   \u001b[0m\u001b[0m\u001b[1m\u001b[38;5;12m= \u001b[0m\u001b[0m\u001b[1mnote\u001b[0m\u001b[0m: #[warn(dead_code)] on by default\u001b[0m\n",
      "\n",
      "\u001b[K\u001b[0m\u001b[1m\u001b[38;5;9merror\u001b[0m\u001b[0m\u001b[1m: requires `start` lang_item\u001b[0m===================>   ] 19/20\n",
      "\n",
      "\u001b[K\u001b[0m\u001b[1m\u001b[38;5;9merror\u001b[0m\u001b[0m\u001b[1m: aborting due to previous error\u001b[0m===============>   ] 19/20\n",
      "\n",
      "\u001b[K\u001b[0m\u001b[0m\u001b[1m\u001b[31merror:\u001b[0m Could not compile `rusty_l4`.============================>   ] 19/20\n",
      "\n",
      "To learn more, run the command again with --verbose.\n"
     ]
    },
    {
     "ename": "",
     "evalue": "101",
     "output_type": "error",
     "traceback": []
    }
   ],
   "source": [
    "cargo xtest --target=x86_64-rusty_l4.json "
   ]
  },
  {
   "cell_type": "markdown",
   "metadata": {},
   "source": [
    "However, build fails with the error `requires start lang_item`"
   ]
  },
  {
   "cell_type": "code",
   "execution_count": 6,
   "metadata": {},
   "outputs": [
    {
     "name": "stdout",
     "output_type": "stream",
     "text": [
      "\u001b[1mdiff --git a/src/lib.rs b/src/lib.rs\u001b[m\n",
      "\u001b[1mindex a005f16..e46b5f5 100755\u001b[m\n",
      "\u001b[1m--- a/src/lib.rs\u001b[m\n",
      "\u001b[1m+++ b/src/lib.rs\u001b[m\n",
      "\u001b[36m@@ -1,6 +1,7 @@\u001b[m\n",
      " #![no_std]\u001b[m\n",
      " #![feature(abi_x86_interrupt)]\u001b[m\n",
      " #![feature(asm)]\u001b[m\n",
      "\u001b[32m+\u001b[m\u001b[32m#![feature(start)]\u001b[m\n",
      " #![feature(lang_items)]\u001b[m\n",
      " #![feature(custom_test_frameworks)]\u001b[m\n",
      " #![test_runner(crate::test_runner)]\u001b[m\n",
      "\u001b[36m@@ -15,6 +16,7 @@\u001b[m \u001b[mpub mod gdt;\u001b[m\n",
      " mod vga_buffer;\u001b[m\n",
      " \u001b[m\n",
      " #[no_mangle]\u001b[m\n",
      "\u001b[32m+\u001b[m\u001b[32m#[start]\u001b[m\n",
      " pub extern \"C\" fn rust_start(multiboot_info_addr: usize) -> ! {\u001b[m\n",
      "     println!(\"Hello Hello, World!\\nsome numbers: {} {}\", 42, 1.337);\u001b[m\n",
      " \u001b[m\n"
     ]
    }
   ],
   "source": [
    "git diff src"
   ]
  },
  {
   "cell_type": "code",
   "execution_count": 7,
   "metadata": {},
   "outputs": [
    {
     "name": "stdout",
     "output_type": "stream",
     "text": [
      "\u001b[0m\u001b[0m\u001b[1m\u001b[32m   Compiling\u001b[0m rusty_l4 v0.1.0 (/mnt/c/Users/abctk/Dropbox/develop/rust/l4/rusty_l4)\n",
      "\u001b[K\u001b[0m\u001b[1m\u001b[33mwarning\u001b[0m\u001b[0m\u001b[1m: `...` range patterns are deprecated\u001b[0m============>   ] 19/20\n",
      "\u001b[0m  \u001b[0m\u001b[0m\u001b[1m\u001b[38;5;12m--> \u001b[0m\u001b[0msrc/vga_buffer.rs:71:21\u001b[0m\n",
      "\u001b[0m   \u001b[0m\u001b[0m\u001b[1m\u001b[38;5;12m|\u001b[0m\n",
      "\u001b[0m\u001b[1m\u001b[38;5;12m71\u001b[0m\u001b[0m \u001b[0m\u001b[0m\u001b[1m\u001b[38;5;12m| \u001b[0m\u001b[0m                0x20...0x7e | b'\\n' => self.write_byte(byte),\u001b[0m\n",
      "\u001b[0m   \u001b[0m\u001b[0m\u001b[1m\u001b[38;5;12m| \u001b[0m\u001b[0m                    \u001b[0m\u001b[0m\u001b[1m\u001b[33m^^^\u001b[0m\u001b[0m \u001b[0m\u001b[0m\u001b[1m\u001b[33mhelp: use `..=` for an inclusive range\u001b[0m\n",
      "\u001b[0m   \u001b[0m\u001b[0m\u001b[1m\u001b[38;5;12m|\u001b[0m\n",
      "\u001b[0m   \u001b[0m\u001b[0m\u001b[1m\u001b[38;5;12m= \u001b[0m\u001b[0m\u001b[1mnote\u001b[0m\u001b[0m: #[warn(ellipsis_inclusive_range_patterns)] on by default\u001b[0m\n",
      "\n",
      "\u001b[K\u001b[0m\u001b[1m\u001b[33mwarning\u001b[0m\u001b[0m\u001b[1m: function is never used: `fault_handler`\u001b[0m========>   ] 19/20\n",
      "\u001b[0m  \u001b[0m\u001b[0m\u001b[1m\u001b[38;5;12m--> \u001b[0m\u001b[0msrc/interrupts.rs:38:1\u001b[0m\n",
      "\u001b[0m   \u001b[0m\u001b[0m\u001b[1m\u001b[38;5;12m|\u001b[0m\n",
      "\u001b[0m\u001b[1m\u001b[38;5;12m38\u001b[0m\u001b[0m \u001b[0m\u001b[0m\u001b[1m\u001b[38;5;12m| \u001b[0m\u001b[0m\u001b[1m\u001b[33m/\u001b[0m\u001b[0m \u001b[0m\u001b[0mextern \"x86-interrupt\" fn fault_handler(\u001b[0m\n",
      "\u001b[0m\u001b[1m\u001b[38;5;12m39\u001b[0m\u001b[0m \u001b[0m\u001b[0m\u001b[1m\u001b[38;5;12m| \u001b[0m\u001b[0m\u001b[1m\u001b[33m|\u001b[0m\u001b[0m \u001b[0m\u001b[0m    stack_frame: &mut InterruptStackFrame,\u001b[0m\n",
      "\u001b[0m\u001b[1m\u001b[38;5;12m40\u001b[0m\u001b[0m \u001b[0m\u001b[0m\u001b[1m\u001b[38;5;12m| \u001b[0m\u001b[0m\u001b[1m\u001b[33m|\u001b[0m\u001b[0m \u001b[0m\u001b[0m    _: PageFaultErrorCode) \u001b[0m\n",
      "\u001b[0m\u001b[1m\u001b[38;5;12m41\u001b[0m\u001b[0m \u001b[0m\u001b[0m\u001b[1m\u001b[38;5;12m| \u001b[0m\u001b[0m\u001b[1m\u001b[33m|\u001b[0m\u001b[0m \u001b[0m\u001b[0m{\u001b[0m\n",
      "\u001b[0m\u001b[1m\u001b[38;5;12m42\u001b[0m\u001b[0m \u001b[0m\u001b[0m\u001b[1m\u001b[38;5;12m| \u001b[0m\u001b[0m\u001b[1m\u001b[33m|\u001b[0m\u001b[0m \u001b[0m\u001b[0m    println!(\"EXCEPTION: \\n{:#?}\", stack_frame);\u001b[0m\n",
      "\u001b[0m\u001b[1m\u001b[38;5;12m43\u001b[0m\u001b[0m \u001b[0m\u001b[0m\u001b[1m\u001b[38;5;12m| \u001b[0m\u001b[0m\u001b[1m\u001b[33m|\u001b[0m\u001b[0m \u001b[0m\u001b[0m}\u001b[0m\n",
      "\u001b[0m   \u001b[0m\u001b[0m\u001b[1m\u001b[38;5;12m| \u001b[0m\u001b[0m\u001b[1m\u001b[33m|_^\u001b[0m\n",
      "\u001b[0m   \u001b[0m\u001b[0m\u001b[1m\u001b[38;5;12m|\u001b[0m\n",
      "\u001b[0m   \u001b[0m\u001b[0m\u001b[1m\u001b[38;5;12m= \u001b[0m\u001b[0m\u001b[1mnote\u001b[0m\u001b[0m: #[warn(dead_code)] on by default\u001b[0m\n",
      "\n",
      "\u001b[K\u001b[0m\u001b[1m\u001b[38;5;9merror\u001b[0m\u001b[0m\u001b[1m: requires `start` lang_item\u001b[0m===================>   ] 19/20\n",
      "\n",
      "\u001b[0m\u001b[1m\u001b[38;5;9merror\u001b[0m\u001b[0m\u001b[1m: aborting due to previous error\u001b[0m\n",
      "\n",
      "\u001b[K\u001b[0m\u001b[0m\u001b[1m\u001b[31merror:\u001b[0m Could not compile `rusty_l4`.============================>   ] 19/20\n",
      "\n",
      "To learn more, run the command again with --verbose.\n"
     ]
    },
    {
     "ename": "",
     "evalue": "101",
     "output_type": "error",
     "traceback": []
    }
   ],
   "source": [
    "cargo xtest --target=x86_64-rusty_l4.json "
   ]
  },
  {
   "cell_type": "markdown",
   "metadata": {},
   "source": [
    "Added `start` (I don't know if this is meaningful at all), but no help."
   ]
  },
  {
   "cell_type": "code",
   "execution_count": 8,
   "metadata": {},
   "outputs": [
    {
     "name": "stdout",
     "output_type": "stream",
     "text": [
      "\u001b[1mdiff --git a/Makefile b/Makefile\u001b[m\n",
      "\u001b[1mindex 2de8a09..274c460 100755\u001b[m\n",
      "\u001b[1m--- a/Makefile\u001b[m\n",
      "\u001b[1m+++ b/Makefile\u001b[m\n",
      "\u001b[36m@@ -1,7 +1,9 @@\u001b[m\n",
      " all: run\u001b[m\n",
      " \u001b[m\n",
      "\u001b[31m-build/kernel: build/startup | build/\u001b[m\n",
      "\u001b[32m+\u001b[m\u001b[32mcargo:\u001b[m\n",
      " \tcargo xbuild --target x86_64-rusty_l4.json\u001b[m\n",
      "\u001b[32m+\u001b[m\n",
      "\u001b[32m+\u001b[m\u001b[32mbuild/kernel: build/startup cargo | build/\u001b[m\n",
      " \tcp target/x86_64-rusty_l4/debug/librusty_l4.a build/\u001b[m\n",
      " \tld.lld -Tsrc/linker.ld -o build/kernel-nonstripped build/startup build/librusty_l4.a\u001b[m\n",
      " \tobjcopy -g build/kernel-nonstripped build/kernel\u001b[m\n",
      "\u001b[36m@@ -33,4 +35,4 @@\u001b[m \u001b[mclean:\u001b[m\n",
      " \trm -rf build\u001b[m\n",
      " \tcargo clean\u001b[m\n",
      " \u001b[m\n",
      "\u001b[31m-.PHONY: run all clean build/kernel build\u001b[m\n",
      "\u001b[32m+\u001b[m\u001b[32m.PHONY: run all clean build/kernel build cargo\u001b[m\n",
      "\u001b[1mdiff --git a/src/lib.rs b/src/lib.rs\u001b[m\n",
      "\u001b[1mindex a005f16..298c021 100755\u001b[m\n",
      "\u001b[1m--- a/src/lib.rs\u001b[m\n",
      "\u001b[1m+++ b/src/lib.rs\u001b[m\n",
      "\u001b[36m@@ -1,10 +1,12 @@\u001b[m\n",
      " #![no_std]\u001b[m\n",
      " #![feature(abi_x86_interrupt)]\u001b[m\n",
      " #![feature(asm)]\u001b[m\n",
      "\u001b[32m+\u001b[m\u001b[32m#![feature(start)]\u001b[m\n",
      " #![feature(lang_items)]\u001b[m\n",
      " #![feature(custom_test_frameworks)]\u001b[m\n",
      " #![test_runner(crate::test_runner)]\u001b[m\n",
      " #![reexport_test_harness_main = \"test_main\"]\u001b[m\n",
      "\u001b[32m+\u001b[m\u001b[32m#![no_main]\u001b[m\n",
      " \u001b[m\n",
      " use core::panic::PanicInfo;\u001b[m\n",
      " \u001b[m\n",
      "\u001b[36m@@ -15,6 +17,7 @@\u001b[m \u001b[mpub mod gdt;\u001b[m\n",
      " mod vga_buffer;\u001b[m\n",
      " \u001b[m\n",
      " #[no_mangle]\u001b[m\n",
      "\u001b[32m+\u001b[m\u001b[32m#[start]\u001b[m\n",
      " pub extern \"C\" fn rust_start(multiboot_info_addr: usize) -> ! {\u001b[m\n",
      "     println!(\"Hello Hello, World!\\nsome numbers: {} {}\", 42, 1.337);\u001b[m\n",
      " \u001b[m\n"
     ]
    }
   ],
   "source": [
    "git diff"
   ]
  },
  {
   "cell_type": "code",
   "execution_count": 9,
   "metadata": {},
   "outputs": [
    {
     "name": "stdout",
     "output_type": "stream",
     "text": [
      "\u001b[0m\u001b[0m\u001b[1m\u001b[32m    Finished\u001b[0m dev [unoptimized + debuginfo] target(s) in 0.05s\n",
      "\u001b[0m\u001b[0m\u001b[1m\u001b[32m     Running\u001b[0m target/x86_64-rusty_l4/debug/deps/rusty_l4-e1191528667ca90d\n",
      "test /mnt/c/Users/abctk/Dropbox/develop/rust/l4/rusty_l4/target/x86_64-rusty_l4/debug/deps/rusty_l4-e1191528667ca90d\n"
     ]
    }
   ],
   "source": [
    "cargo xtest --target=x86_64-rusty_l4.json "
   ]
  },
  {
   "cell_type": "markdown",
   "metadata": {},
   "source": [
    "Adding `no_main` makes build succeed, However"
   ]
  },
  {
   "cell_type": "code",
   "execution_count": 10,
   "metadata": {},
   "outputs": [
    {
     "name": "stdout",
     "output_type": "stream",
     "text": [
      "There are 15 section headers, starting at offset 0x405b60:\n",
      "\n",
      "Section Headers:\n",
      "  [Nr] Name              Type             Address           Offset\n",
      "       Size              EntSize          Flags  Link  Info  Align\n",
      "  [ 0]                   NULL             0000000000000000  00000000\n",
      "       0000000000000000  0000000000000000           0     0     0\n",
      "  [ 1] .debug_str        PROGBITS         0000000000000000  000000e8\n",
      "       000000000015db6c  0000000000000001  MS       0     0     1\n",
      "  [ 2] .debug_abbrev     PROGBITS         0000000000000000  0015dc54\n",
      "       0000000000006260  0000000000000000           0     0     1\n",
      "  [ 3] .debug_info       PROGBITS         0000000000000000  00163eb4\n",
      "       00000000000f3d2f  0000000000000000           0     0     1\n",
      "  [ 4] .debug_ranges     PROGBITS         0000000000000000  00257be3\n",
      "       000000000003e860  0000000000000000           0     0     1\n",
      "  [ 5] .debug_macinfo    PROGBITS         0000000000000000  00296443\n",
      "       000000000000005e  0000000000000000           0     0     1\n",
      "  [ 6] .debug_pubnames   PROGBITS         0000000000000000  002964a1\n",
      "       0000000000011807  0000000000000000           0     0     1\n",
      "  [ 7] .debug_pubtypes   PROGBITS         0000000000000000  002a7ca8\n",
      "       000000000001aaf0  0000000000000000           0     0     1\n",
      "  [ 8] .debug_frame      PROGBITS         0000000000000000  002c2798\n",
      "       00000000000763c8  0000000000000000           0     0     8\n",
      "  [ 9] .debug_line       PROGBITS         0000000000000000  00338b60\n",
      "       00000000000cb2c2  0000000000000000           0     0     1\n",
      "  [10] .debug_loc        PROGBITS         0000000000000000  00403e22\n",
      "       000000000000083a  0000000000000000           0     0     1\n",
      "  [11] .comment          PROGBITS         0000000000000000  0040465c\n",
      "       0000000000000012  0000000000000001  MS       0     0     1\n",
      "  [12] .symtab           SYMTAB           0000000000000000  00404670\n",
      "       0000000000000ab0  0000000000000018          14   114     8\n",
      "  [13] .shstrtab         STRTAB           0000000000000000  00405120\n",
      "       00000000000000aa  0000000000000000           0     0     1\n",
      "  [14] .strtab           STRTAB           0000000000000000  004051ca\n",
      "       0000000000000992  0000000000000000           0     0     1\n",
      "Key to Flags:\n",
      "  W (write), A (alloc), X (execute), M (merge), S (strings), I (info),\n",
      "  L (link order), O (extra OS processing required), G (group), T (TLS),\n",
      "  C (compressed), x (unknown), o (OS specific), E (exclude),\n",
      "  l (large), p (processor specific)\n"
     ]
    }
   ],
   "source": [
    "readelf -S /mnt/c/Users/abctk/Dropbox/develop/rust/l4/rusty_l4/target/x86_64-rusty_l4/debug/deps/rusty_l4-e1191528667ca90d"
   ]
  },
  {
   "cell_type": "markdown",
   "metadata": {},
   "source": [
    "No `.text` section is emitted. All functions disappeared.This is understandable because there is no entry point due to `no_main`..."
   ]
  },
  {
   "cell_type": "code",
   "execution_count": null,
   "metadata": {},
   "outputs": [],
   "source": []
  }
 ],
 "metadata": {
  "kernelspec": {
   "display_name": "Bash",
   "language": "bash",
   "name": "bash"
  }
 },
 "nbformat": 4,
 "nbformat_minor": 2
}
